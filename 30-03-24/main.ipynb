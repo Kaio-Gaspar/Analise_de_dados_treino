{
 "cells": [
  {
   "cell_type": "code",
   "execution_count": 59,
   "metadata": {},
   "outputs": [
    {
     "name": "stdout",
     "output_type": "stream",
     "text": [
      "30-03-24\n"
     ]
    }
   ],
   "source": [
    "print('30-03-24')\n",
    "import pandas as pd\n",
    "import matplotlib as mat\n",
    "import matplotlib.pyplot as plt\n",
    "#importações"
   ]
  },
  {
   "cell_type": "code",
   "execution_count": 60,
   "metadata": {},
   "outputs": [
    {
     "name": "stdout",
     "output_type": "stream",
     "text": [
      "     num_preg  glucose_conc  diastolic_bp  thickness  insulin   bmi  \\\n",
      "0           6           148            72         35        0  33.6   \n",
      "1           1            85            66         29        0  26.6   \n",
      "2           8           183            64          0        0  23.3   \n",
      "3           1            89            66         23       94  28.1   \n",
      "4           0           137            40         35      168  43.1   \n",
      "..        ...           ...           ...        ...      ...   ...   \n",
      "763        10           101            76         48      180  32.9   \n",
      "764         2           122            70         27        0  36.8   \n",
      "765         5           121            72         23      112  26.2   \n",
      "766         1           126            60          0        0  30.1   \n",
      "767         1            93            70         31        0  30.4   \n",
      "\n",
      "     diab_pred  age    skin  diabetes  \n",
      "0        0.627   50  1.3780      True  \n",
      "1        0.351   31  1.1426     False  \n",
      "2        0.672   32  0.0000      True  \n",
      "3        0.167   21  0.9062     False  \n",
      "4        2.288   33  1.3790      True  \n",
      "..         ...  ...     ...       ...  \n",
      "763      0.171   63  1.8912     False  \n",
      "764      0.340   27  1.0638     False  \n",
      "765      0.245   30  0.9062     False  \n",
      "766      0.349   47  0.0000      True  \n",
      "767      0.315   23  1.2214     False  \n",
      "\n",
      "[768 rows x 10 columns]\n"
     ]
    }
   ],
   "source": [
    "df = pd.read_csv('pima-data.csv')\n",
    "print(df)"
   ]
  },
  {
   "cell_type": "code",
   "execution_count": 61,
   "metadata": {},
   "outputs": [
    {
     "data": {
      "text/html": [
       "<div>\n",
       "<style scoped>\n",
       "    .dataframe tbody tr th:only-of-type {\n",
       "        vertical-align: middle;\n",
       "    }\n",
       "\n",
       "    .dataframe tbody tr th {\n",
       "        vertical-align: top;\n",
       "    }\n",
       "\n",
       "    .dataframe thead th {\n",
       "        text-align: right;\n",
       "    }\n",
       "</style>\n",
       "<table border=\"1\" class=\"dataframe\">\n",
       "  <thead>\n",
       "    <tr style=\"text-align: right;\">\n",
       "      <th></th>\n",
       "      <th>Insulina</th>\n",
       "      <th>Diabetes</th>\n",
       "    </tr>\n",
       "  </thead>\n",
       "  <tbody>\n",
       "    <tr>\n",
       "      <th>0</th>\n",
       "      <td>0</td>\n",
       "      <td>True</td>\n",
       "    </tr>\n",
       "    <tr>\n",
       "      <th>1</th>\n",
       "      <td>0</td>\n",
       "      <td>False</td>\n",
       "    </tr>\n",
       "    <tr>\n",
       "      <th>2</th>\n",
       "      <td>0</td>\n",
       "      <td>True</td>\n",
       "    </tr>\n",
       "    <tr>\n",
       "      <th>3</th>\n",
       "      <td>94</td>\n",
       "      <td>False</td>\n",
       "    </tr>\n",
       "    <tr>\n",
       "      <th>4</th>\n",
       "      <td>168</td>\n",
       "      <td>True</td>\n",
       "    </tr>\n",
       "  </tbody>\n",
       "</table>\n",
       "</div>"
      ],
      "text/plain": [
       "   Insulina  Diabetes\n",
       "0         0      True\n",
       "1         0     False\n",
       "2         0      True\n",
       "3        94     False\n",
       "4       168      True"
      ]
     },
     "execution_count": 61,
     "metadata": {},
     "output_type": "execute_result"
    }
   ],
   "source": [
    "\n",
    "\n",
    "new_df = pd.DataFrame({\n",
    "    'Insulina': df['insulin'],\n",
    "    'Diabetes': df['diabetes']\n",
    "})\n",
    "\n",
    "new_df.head(5)\n",
    "#cria uma dataframe nova a partir de duas colunas"
   ]
  },
  {
   "cell_type": "code",
   "execution_count": 62,
   "metadata": {},
   "outputs": [],
   "source": [
    "\n",
    "new_df.to_excel('insulina&diabetes.xlsx', index=False)\n",
    "# cria planilha excel do new_df"
   ]
  },
  {
   "cell_type": "code",
   "execution_count": 63,
   "metadata": {},
   "outputs": [
    {
     "name": "stdout",
     "output_type": "stream",
     "text": [
      "         num_preg  glucose_conc  diastolic_bp   thickness     insulin  \\\n",
      "count  768.000000    768.000000    768.000000  768.000000  768.000000   \n",
      "mean     3.845052    120.894531     69.105469   20.536458   79.799479   \n",
      "std      3.369578     31.972618     19.355807   15.952218  115.244002   \n",
      "min      0.000000      0.000000      0.000000    0.000000    0.000000   \n",
      "25%      1.000000     99.000000     62.000000    0.000000    0.000000   \n",
      "50%      3.000000    117.000000     72.000000   23.000000   30.500000   \n",
      "75%      6.000000    140.250000     80.000000   32.000000  127.250000   \n",
      "max     17.000000    199.000000    122.000000   99.000000  846.000000   \n",
      "\n",
      "              bmi   diab_pred         age        skin  \n",
      "count  768.000000  768.000000  768.000000  768.000000  \n",
      "mean    31.992578    0.471876   33.240885    0.809135  \n",
      "std      7.884160    0.331329   11.760232    0.628516  \n",
      "min      0.000000    0.078000   21.000000    0.000000  \n",
      "25%     27.300000    0.243750   24.000000    0.000000  \n",
      "50%     32.000000    0.372500   29.000000    0.906200  \n",
      "75%     36.600000    0.626250   41.000000    1.260800  \n",
      "max     67.100000    2.420000   81.000000    3.900600  \n"
     ]
    }
   ],
   "source": [
    "print(df.describe())\n",
    "#No método describe() do pandas, o count indica o número de valores não nulos em uma determinada coluna do DataFrame. Isso significa que count fornece uma contagem dos valores válidos presentes na coluna durante a análise estatística descritiva.\n",
    "\n"
   ]
  },
  {
   "cell_type": "code",
   "execution_count": 64,
   "metadata": {},
   "outputs": [
    {
     "name": "stdout",
     "output_type": "stream",
     "text": [
      "diabetes\n",
      "0    500\n",
      "1    268\n",
      "Name: count, dtype: int64\n"
     ]
    },
    {
     "data": {
      "image/png": "[encoded data removed]",
      "text/plain": [
       "<Figure size 640x480 with 1 Axes>"
      ]
     },
     "metadata": {},
     "output_type": "display_data"
    }
   ],
   "source": [
    "diabetes_map = {True : 1, False : 0}\n",
    "df['diabetes'] = df['diabetes'].map(diabetes_map)\n",
    "contador_diabetes = df['diabetes'].value_counts()\n",
    "#500 nao pessoas possuem diabets e 268 possuem\n",
    "print(contador_diabetes)\n",
    "contador_diabetes.plot(kind='bar', color=['yellow','blue'])\n",
    "plt.xlabel('Diabetes (0: Não, 1: Sim)')\n",
    "plt.ylabel('Contagem')\n",
    "plt.title('Contagem de Pessoas com e sem Diabetes')\n",
    "\n",
    "# Mostrar o gráfico\n",
    "plt.show()"
   ]
  }
 ],
 "metadata": {
  "kernelspec": {
   "display_name": "Python 3",
   "language": "python",
   "name": "python3"
  },
  "language_info": {
   "codemirror_mode": {
    "name": "ipython",
    "version": 3
   },
   "file_extension": ".py",
   "mimetype": "text/x-python",
   "name": "python",
   "nbconvert_exporter": "python",
   "pygments_lexer": "ipython3",
   "version": "3.10.12"
  }
 },
 "nbformat": 4,
 "nbformat_minor": 2
}
